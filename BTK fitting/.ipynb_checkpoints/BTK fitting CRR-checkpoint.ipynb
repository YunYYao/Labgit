{
 "cells": [
  {
   "cell_type": "code",
   "execution_count": 13,
   "metadata": {
    "collapsed": false
   },
   "outputs": [],
   "source": [
    "import numpy as np \n",
    "import matplotlib.pyplot as plt\n",
    "import matplotlib as mpl\n",
    "from matplotlib import rc \n",
    "import os, shutil \n",
    "import sqa\n",
    "from BTK_fit import *\n",
    "from scipy.optimize import least_squares\n",
    "%matplotlib qt"
   ]
  },
  {
   "cell_type": "code",
   "execution_count": 8,
   "metadata": {
    "collapsed": false
   },
   "outputs": [],
   "source": [
    "IV=BTK_IV(2,1,5,0.5,3) #def BTK_IV(T,delta,Z,gamma,Vrange):\n",
    "#IV1=BTK_IV(2,1,1,0.00,2)\n",
    "#IV2=BTK_IV(2,1,1.5,0.00,2)\n",
    "#IV3=BTK_IV(2,1,2,0.00,2)\n",
    "\n",
    "\n",
    "\n",
    "fig=plt.figure(figsize=(8,6))\n",
    "# plt.axes([0.18,0.18,0.75,0.7])\n",
    "\n",
    "\n",
    "\n",
    "\n",
    "plt.plot(IV[:,0],IV[:,1],'-k')\n",
    "#plt.plot(IV1[:,0],IV1[:,1],'-r')\n",
    "#plt.plot(IV2[:,0],IV2[:,1],'-m')\n",
    "#plt.plot(IV3[:,0],IV3[:,1],'-g')\n",
    "\n",
    "\n",
    "plt.xlabel('Bias Voltage (mV)')\n",
    "plt.ylabel('($\\mathit{dI/dV}$)$_{\\mathdefault{n}}$')\n",
    "plt.legend(('Z=0.5'),loc=0,frameon=False,prop={'size':12})\n",
    "plt.xlim(-2,2)\n",
    "plt.ylim(0,2.1)\n",
    "#plt.text(r'T=2 K;Z=0',ha='left',color='r')\n",
    "#plt.text(r'$\\Delta$=1 meV',ha='left',color='r')\n",
    "#plt.ylim(0.87,1.08)$\\Delta$=1 meV\n",
    "\n",
    "#fname = 'S2.pdf'\n",
    "\n",
    "#plt.savefig(fname,format='pdf')\n",
    "\n",
    "plt.show()"
   ]
  },
  {
   "cell_type": "code",
   "execution_count": 44,
   "metadata": {
    "collapsed": false
   },
   "outputs": [],
   "source": [
    "temp=2\n",
    "gap=1\n",
    "barrier=1\n",
    "gamma=0\n",
    "Vrange=5\n",
    "def BTK_fitting(fitV,fitG,T=temp,GAP=gap,B=barrier,GA=gamma,V=Vrange,p0=False):\n",
    "    '''\n",
    "    \n",
    "    P[0]: delta/mV, gap;\n",
    "    P[1]: Z, barrier;\n",
    "    P[0]: gamma/mV;\n",
    "    \n",
    "    '''\n",
    "    def btk_fitG(T,GAP,B,GA,V,y):\n",
    "        return btk_IV(T,GAP,B,GA,V)-y\n",
    "    \n",
    "    def btk_IV(T,GAP,B,GA,V):\n",
    "        T=np.float(T); delta=np.float(GAP);Z=np.float(B);gamma=np.float(GA); Vrange=np.float(V)\n",
    "        energy_range=3*Vrange # the range over which we want to find G(E), unit is mV.\n",
    "        nenergy_vals=301 # the number of different energy values, related to the resolution of integration.\n",
    "        energy_step=energy_range/nenergy_vals\n",
    "        volt_range=Vrange \n",
    "        nvolts=601 # the number of voltage steps\n",
    "        volt_step=volt_range/nvolts \n",
    "        # Declare arrays to hold the integration results\n",
    "        Energy_vals=np.zeros(nenergy_vals)\n",
    "        IntegrandofE=np.zeros(nenergy_vals)\n",
    "        IntegrandofE2=np.zeros(nenergy_vals)\n",
    "        # Define variable arrays \n",
    "        energy_vals_array=np.linspace(1,nenergy_vals,num=nenergy_vals)\n",
    "        Energy_vals=(energy_vals_array*energy_step)-energy_range/2.\n",
    "        volt_array=np.zeros(nvolts)\n",
    "        IofV=np.zeros(nvolts)\n",
    "        GofV=np.zeros(nvolts)\n",
    "        for j1 in range(nvolts):\n",
    "            volt_array[j1]=j1*volt_step\n",
    "            for k in range(nenergy_vals):\n",
    "                E=Energy_vals[k]    \n",
    "                IntegrandofE2[k]=(1.+Z**2)*deriv_fermi(E-volt_array[j1], T)*(1.+BTK_AB(E, delta, Z,gamma)[0]-BTK_AB(E, delta, Z,gamma)[1])\n",
    "                IntegrandofE[k]=(1.+Z**2)*(fermi(E-volt_array[j1], T)-fermi(E, T))*(1.+BTK_AB(E, delta, Z,gamma)[0]-BTK_AB(E, delta, Z,gamma)[1])\n",
    "            GofV[j1]=np.trapz(IntegrandofE2,x=Energy_vals)\n",
    "            IofV[j1]=np.trapz(IntegrandofE,x=Energy_vals)\n",
    "        volt_array=np.append(volt_array[::-1]*(-1),volt_array[1:])\n",
    "        GofV=np.append(GofV[::-1],GofV[1:])\n",
    "        IofV=np.append(IofV[::-1]*(-1),IofV[1:])\n",
    "        \n",
    "        return GofV\n",
    "    \n",
    "    \n",
    "    if not p0:\n",
    "        p0=p0\n",
    "    else:\n",
    "        p0=[T,GAP,B,GA]\n",
    "        \n",
    "    res_robust=least_squares(btk_fitG,p0,loss='soft_l1',f_scale=0.1,args=(fitV,fitG))\n",
    "    fitted_G=btk_IV(res_robust.x,fitV)\n",
    "\n",
    "    return res_robust.x,fitted_G\n",
    "    "
   ]
  },
  {
   "cell_type": "code",
   "execution_count": 45,
   "metadata": {
    "collapsed": false
   },
   "outputs": [],
   "source": [
    "def fit_BTK_curve(curvex,curvey,T=2,GAP=1,B=1,GA=0,width=[400,400],figure_path='C:\\\\Users\\\\QSong_pku\\\\Desktop\\\\temp.png'):\n",
    "    \n",
    "\t#global figure_path\n",
    "\t\n",
    "\tif np.max(np.abs(curvex))<100:\n",
    "\t\tcurvex=curvex*1000\n",
    "\t#plt.figure()\n",
    "\t#plt.figure()\n",
    "\tplt.ion()\n",
    "\tplt.plot(curvex,curvey,'r.')\n",
    "\tplt.title(figure_path)\n",
    "\tplt.draw()\n",
    "\tplt.pause(0.1)\n",
    "\t\n",
    "\twhile True:\n",
    "\t\tprint \\\n",
    "\t\t'''\n",
    "\t\tno point => ok \n",
    "\t\t1 point => center\n",
    "\t\t3 point => limit the left and right width\n",
    "\t\t>4 point => repeat\n",
    "        5 point => give up\n",
    "\t\t'''\n",
    "\t\ttry:\n",
    "\t\t\tginput=plt.ginput(0)\n",
    "\t\texcept:\n",
    "\t\t\tcontinue\n",
    "            \n",
    "\t\tif len(ginput)==3:\n",
    "\t\t\trefinedx,refinedy=sqa.fit_refine_data(curvex,curvey,ginput[0][0],ginput[2][0])\n",
    "\t\t\tplt.clf()\n",
    "\t\t\tplt.plot(refinedx,refinedy,'r.',ms=10)\n",
    "\t\t\tplt.draw()\n",
    "\t\t\tplt.pause(0.1)\n",
    "\t\t\tx0=[T,(np.abs(ginput[2][0])+np.abs(ginput[0][0]))/2,B,GA]\n",
    "\t\t\tparameter,fitted_y=BTK_fitting(refinedx,refinedy,T=x0[0],GAP=x0[1],B=x0[2],GA=x0[3])\n",
    "\t\t\t#plt.plot(refinedx,refinedy,'.')\n",
    "\t\t\tplt.plot(refinedx,fitted_y,'b.',ms=15)\n",
    "\t\t\tplt.title(figure_path)\n",
    "\t\t\tplt.draw()\n",
    "\t\t\tplt.pause(0.1)\n",
    "\t\t\t#plt.pause(0.1)\n",
    "\t\telif len(ginput)==0:\n",
    "\t\t\tbreak\n",
    "\t\telif len(ginput)==4:\n",
    "\t\t\tplt.clf()\n",
    "\t\t\tplt.plot(curvex,curvey,'r.')\n",
    "\t\t\tplt.title(figure_path)\n",
    "\t\t\tplt.draw()\n",
    "\t\t\tplt.pause(0.1)\n",
    "\t\telif len(ginput)>4:\n",
    "\t\t\tparameter=np.zeros(6)\n",
    "\t\t\tbreak\n",
    "\t\telse:\n",
    "\t\t\tprint 'ginput error'\n",
    "\t\t#plt.savefig(figure_path)\n",
    "\tplt.clf()\n",
    "\treturn parameter"
   ]
  },
  {
   "cell_type": "code",
   "execution_count": 46,
   "metadata": {
    "collapsed": true
   },
   "outputs": [],
   "source": [
    "folder='E:\\\\project\\\\Nontrival SC\\\\SF_CRR'\n",
    "filename='S3_1.txt'\n",
    "data=sqa.fmr_load_data(folder+'\\\\'+filename)\n"
   ]
  },
  {
   "cell_type": "code",
   "execution_count": 47,
   "metadata": {
    "collapsed": false
   },
   "outputs": [
    {
     "data": {
      "text/plain": [
       "[<matplotlib.lines.Line2D at 0xe8da438>]"
      ]
     },
     "execution_count": 47,
     "metadata": {},
     "output_type": "execute_result"
    }
   ],
   "source": [
    "plt.figure()\n",
    "plt.plot(data.index*1000,data.values,'r-')"
   ]
  },
  {
   "cell_type": "code",
   "execution_count": 48,
   "metadata": {
    "collapsed": false
   },
   "outputs": [
    {
     "name": "stdout",
     "output_type": "stream",
     "text": [
      "\n",
      "\t\tno point => ok \n",
      "\t\t1 point => center\n",
      "\t\t3 point => limit the left and right width\n",
      "\t\t>4 point => repeat\n",
      "        5 point => give up\n",
      "\t\t\n"
     ]
    },
    {
     "ename": "TypeError",
     "evalue": "btk_fitG() takes exactly 6 arguments (3 given)",
     "output_type": "error",
     "traceback": [
      "\u001b[1;31m---------------------------------------------------------------------------\u001b[0m",
      "\u001b[1;31mTypeError\u001b[0m                                 Traceback (most recent call last)",
      "\u001b[1;32m<ipython-input-48-d434a5378bbd>\u001b[0m in \u001b[0;36m<module>\u001b[1;34m()\u001b[0m\n\u001b[1;32m----> 1\u001b[1;33m \u001b[0mfitting_para\u001b[0m\u001b[1;33m=\u001b[0m\u001b[0mfit_BTK_curve\u001b[0m\u001b[1;33m(\u001b[0m\u001b[0mdata\u001b[0m\u001b[1;33m.\u001b[0m\u001b[0mindex\u001b[0m\u001b[1;33m.\u001b[0m\u001b[0mvalues\u001b[0m\u001b[1;33m*\u001b[0m\u001b[1;36m1000\u001b[0m\u001b[1;33m,\u001b[0m\u001b[0mdata\u001b[0m\u001b[1;33m.\u001b[0m\u001b[0mvalues\u001b[0m\u001b[1;33m,\u001b[0m\u001b[0mT\u001b[0m\u001b[1;33m=\u001b[0m\u001b[1;36m2\u001b[0m\u001b[1;33m,\u001b[0m\u001b[0mGAP\u001b[0m\u001b[1;33m=\u001b[0m\u001b[1;36m1\u001b[0m\u001b[1;33m,\u001b[0m\u001b[0mB\u001b[0m\u001b[1;33m=\u001b[0m\u001b[1;36m1\u001b[0m\u001b[1;33m,\u001b[0m\u001b[0mGA\u001b[0m\u001b[1;33m=\u001b[0m\u001b[1;36m0\u001b[0m\u001b[1;33m,\u001b[0m\u001b[0mwidth\u001b[0m\u001b[1;33m=\u001b[0m\u001b[1;33m[\u001b[0m\u001b[1;36m400\u001b[0m\u001b[1;33m,\u001b[0m\u001b[1;36m400\u001b[0m\u001b[1;33m]\u001b[0m\u001b[1;33m,\u001b[0m\u001b[0mfigure_path\u001b[0m\u001b[1;33m=\u001b[0m\u001b[1;34m'C:\\\\Users\\\\QSong_pku\\\\Desktop\\\\temp.png'\u001b[0m\u001b[1;33m)\u001b[0m\u001b[1;33m\u001b[0m\u001b[0m\n\u001b[0m\u001b[0;32m      2\u001b[0m \u001b[1;33m\u001b[0m\u001b[0m\n\u001b[0;32m      3\u001b[0m \u001b[1;32mprint\u001b[0m\u001b[1;33m(\u001b[0m\u001b[0mfitting_para\u001b[0m\u001b[1;33m)\u001b[0m\u001b[1;33m\u001b[0m\u001b[0m\n",
      "\u001b[1;32m<ipython-input-45-b12e30f23cef>\u001b[0m in \u001b[0;36mfit_BTK_curve\u001b[1;34m(curvex, curvey, T, GAP, B, GA, width, figure_path)\u001b[0m\n\u001b[0;32m     33\u001b[0m                         \u001b[0mplt\u001b[0m\u001b[1;33m.\u001b[0m\u001b[0mpause\u001b[0m\u001b[1;33m(\u001b[0m\u001b[1;36m0.1\u001b[0m\u001b[1;33m)\u001b[0m\u001b[1;33m\u001b[0m\u001b[0m\n\u001b[0;32m     34\u001b[0m                         \u001b[0mx0\u001b[0m\u001b[1;33m=\u001b[0m\u001b[1;33m[\u001b[0m\u001b[0mT\u001b[0m\u001b[1;33m,\u001b[0m\u001b[1;33m(\u001b[0m\u001b[0mnp\u001b[0m\u001b[1;33m.\u001b[0m\u001b[0mabs\u001b[0m\u001b[1;33m(\u001b[0m\u001b[0mginput\u001b[0m\u001b[1;33m[\u001b[0m\u001b[1;36m2\u001b[0m\u001b[1;33m]\u001b[0m\u001b[1;33m[\u001b[0m\u001b[1;36m0\u001b[0m\u001b[1;33m]\u001b[0m\u001b[1;33m)\u001b[0m\u001b[1;33m+\u001b[0m\u001b[0mnp\u001b[0m\u001b[1;33m.\u001b[0m\u001b[0mabs\u001b[0m\u001b[1;33m(\u001b[0m\u001b[0mginput\u001b[0m\u001b[1;33m[\u001b[0m\u001b[1;36m0\u001b[0m\u001b[1;33m]\u001b[0m\u001b[1;33m[\u001b[0m\u001b[1;36m0\u001b[0m\u001b[1;33m]\u001b[0m\u001b[1;33m)\u001b[0m\u001b[1;33m)\u001b[0m\u001b[1;33m/\u001b[0m\u001b[1;36m2\u001b[0m\u001b[1;33m,\u001b[0m\u001b[0mB\u001b[0m\u001b[1;33m,\u001b[0m\u001b[0mGA\u001b[0m\u001b[1;33m]\u001b[0m\u001b[1;33m\u001b[0m\u001b[0m\n\u001b[1;32m---> 35\u001b[1;33m                         \u001b[0mparameter\u001b[0m\u001b[1;33m,\u001b[0m\u001b[0mfitted_y\u001b[0m\u001b[1;33m=\u001b[0m\u001b[0mBTK_fitting\u001b[0m\u001b[1;33m(\u001b[0m\u001b[0mrefinedx\u001b[0m\u001b[1;33m,\u001b[0m\u001b[0mrefinedy\u001b[0m\u001b[1;33m,\u001b[0m\u001b[0mT\u001b[0m\u001b[1;33m=\u001b[0m\u001b[0mx0\u001b[0m\u001b[1;33m[\u001b[0m\u001b[1;36m0\u001b[0m\u001b[1;33m]\u001b[0m\u001b[1;33m,\u001b[0m\u001b[0mGAP\u001b[0m\u001b[1;33m=\u001b[0m\u001b[0mx0\u001b[0m\u001b[1;33m[\u001b[0m\u001b[1;36m1\u001b[0m\u001b[1;33m]\u001b[0m\u001b[1;33m,\u001b[0m\u001b[0mB\u001b[0m\u001b[1;33m=\u001b[0m\u001b[0mx0\u001b[0m\u001b[1;33m[\u001b[0m\u001b[1;36m2\u001b[0m\u001b[1;33m]\u001b[0m\u001b[1;33m,\u001b[0m\u001b[0mGA\u001b[0m\u001b[1;33m=\u001b[0m\u001b[0mx0\u001b[0m\u001b[1;33m[\u001b[0m\u001b[1;36m3\u001b[0m\u001b[1;33m]\u001b[0m\u001b[1;33m)\u001b[0m\u001b[1;33m\u001b[0m\u001b[0m\n\u001b[0m\u001b[0;32m     36\u001b[0m                         \u001b[1;31m#plt.plot(refinedx,refinedy,'.')\u001b[0m\u001b[1;33m\u001b[0m\u001b[1;33m\u001b[0m\u001b[0m\n\u001b[0;32m     37\u001b[0m                         \u001b[0mplt\u001b[0m\u001b[1;33m.\u001b[0m\u001b[0mplot\u001b[0m\u001b[1;33m(\u001b[0m\u001b[0mrefinedx\u001b[0m\u001b[1;33m,\u001b[0m\u001b[0mfitted_y\u001b[0m\u001b[1;33m,\u001b[0m\u001b[1;34m'b.'\u001b[0m\u001b[1;33m,\u001b[0m\u001b[0mms\u001b[0m\u001b[1;33m=\u001b[0m\u001b[1;36m15\u001b[0m\u001b[1;33m)\u001b[0m\u001b[1;33m\u001b[0m\u001b[0m\n",
      "\u001b[1;32m<ipython-input-44-5c924f65cab6>\u001b[0m in \u001b[0;36mBTK_fitting\u001b[1;34m(fitV, fitG, T, GAP, B, GA, V, p0)\u001b[0m\n\u001b[0;32m     53\u001b[0m         \u001b[0mp0\u001b[0m\u001b[1;33m=\u001b[0m\u001b[1;33m[\u001b[0m\u001b[0mT\u001b[0m\u001b[1;33m,\u001b[0m\u001b[0mGAP\u001b[0m\u001b[1;33m,\u001b[0m\u001b[0mB\u001b[0m\u001b[1;33m,\u001b[0m\u001b[0mGA\u001b[0m\u001b[1;33m]\u001b[0m\u001b[1;33m\u001b[0m\u001b[0m\n\u001b[0;32m     54\u001b[0m \u001b[1;33m\u001b[0m\u001b[0m\n\u001b[1;32m---> 55\u001b[1;33m     \u001b[0mres_robust\u001b[0m\u001b[1;33m=\u001b[0m\u001b[0mleast_squares\u001b[0m\u001b[1;33m(\u001b[0m\u001b[0mbtk_fitG\u001b[0m\u001b[1;33m,\u001b[0m\u001b[0mp0\u001b[0m\u001b[1;33m,\u001b[0m\u001b[0mloss\u001b[0m\u001b[1;33m=\u001b[0m\u001b[1;34m'soft_l1'\u001b[0m\u001b[1;33m,\u001b[0m\u001b[0mf_scale\u001b[0m\u001b[1;33m=\u001b[0m\u001b[1;36m0.1\u001b[0m\u001b[1;33m,\u001b[0m\u001b[0margs\u001b[0m\u001b[1;33m=\u001b[0m\u001b[1;33m(\u001b[0m\u001b[0mfitV\u001b[0m\u001b[1;33m,\u001b[0m\u001b[0mfitG\u001b[0m\u001b[1;33m)\u001b[0m\u001b[1;33m)\u001b[0m\u001b[1;33m\u001b[0m\u001b[0m\n\u001b[0m\u001b[0;32m     56\u001b[0m     \u001b[0mfitted_G\u001b[0m\u001b[1;33m=\u001b[0m\u001b[0mbtk_IV\u001b[0m\u001b[1;33m(\u001b[0m\u001b[0mres_robust\u001b[0m\u001b[1;33m.\u001b[0m\u001b[0mx\u001b[0m\u001b[1;33m,\u001b[0m\u001b[0mfitV\u001b[0m\u001b[1;33m)\u001b[0m\u001b[1;33m\u001b[0m\u001b[0m\n\u001b[0;32m     57\u001b[0m \u001b[1;33m\u001b[0m\u001b[0m\n",
      "\u001b[1;32mD:\\python\\lib\\site-packages\\scipy\\optimize\\_lsq\\least_squares.pyc\u001b[0m in \u001b[0;36mleast_squares\u001b[1;34m(fun, x0, jac, bounds, method, ftol, xtol, gtol, x_scale, loss, f_scale, diff_step, tr_solver, tr_options, jac_sparsity, max_nfev, verbose, args, kwargs)\u001b[0m\n\u001b[0;32m    767\u001b[0m         \u001b[0mx0\u001b[0m \u001b[1;33m=\u001b[0m \u001b[0mmake_strictly_feasible\u001b[0m\u001b[1;33m(\u001b[0m\u001b[0mx0\u001b[0m\u001b[1;33m,\u001b[0m \u001b[0mlb\u001b[0m\u001b[1;33m,\u001b[0m \u001b[0mub\u001b[0m\u001b[1;33m)\u001b[0m\u001b[1;33m\u001b[0m\u001b[0m\n\u001b[0;32m    768\u001b[0m \u001b[1;33m\u001b[0m\u001b[0m\n\u001b[1;32m--> 769\u001b[1;33m     \u001b[0mf0\u001b[0m \u001b[1;33m=\u001b[0m \u001b[0mfun_wrapped\u001b[0m\u001b[1;33m(\u001b[0m\u001b[0mx0\u001b[0m\u001b[1;33m)\u001b[0m\u001b[1;33m\u001b[0m\u001b[0m\n\u001b[0m\u001b[0;32m    770\u001b[0m \u001b[1;33m\u001b[0m\u001b[0m\n\u001b[0;32m    771\u001b[0m     \u001b[1;32mif\u001b[0m \u001b[0mf0\u001b[0m\u001b[1;33m.\u001b[0m\u001b[0mndim\u001b[0m \u001b[1;33m!=\u001b[0m \u001b[1;36m1\u001b[0m\u001b[1;33m:\u001b[0m\u001b[1;33m\u001b[0m\u001b[0m\n",
      "\u001b[1;32mD:\\python\\lib\\site-packages\\scipy\\optimize\\_lsq\\least_squares.pyc\u001b[0m in \u001b[0;36mfun_wrapped\u001b[1;34m(x)\u001b[0m\n\u001b[0;32m    762\u001b[0m \u001b[1;33m\u001b[0m\u001b[0m\n\u001b[0;32m    763\u001b[0m     \u001b[1;32mdef\u001b[0m \u001b[0mfun_wrapped\u001b[0m\u001b[1;33m(\u001b[0m\u001b[0mx\u001b[0m\u001b[1;33m)\u001b[0m\u001b[1;33m:\u001b[0m\u001b[1;33m\u001b[0m\u001b[0m\n\u001b[1;32m--> 764\u001b[1;33m         \u001b[1;32mreturn\u001b[0m \u001b[0mnp\u001b[0m\u001b[1;33m.\u001b[0m\u001b[0matleast_1d\u001b[0m\u001b[1;33m(\u001b[0m\u001b[0mfun\u001b[0m\u001b[1;33m(\u001b[0m\u001b[0mx\u001b[0m\u001b[1;33m,\u001b[0m \u001b[1;33m*\u001b[0m\u001b[0margs\u001b[0m\u001b[1;33m,\u001b[0m \u001b[1;33m**\u001b[0m\u001b[0mkwargs\u001b[0m\u001b[1;33m)\u001b[0m\u001b[1;33m)\u001b[0m\u001b[1;33m\u001b[0m\u001b[0m\n\u001b[0m\u001b[0;32m    765\u001b[0m \u001b[1;33m\u001b[0m\u001b[0m\n\u001b[0;32m    766\u001b[0m     \u001b[1;32mif\u001b[0m \u001b[0mmethod\u001b[0m \u001b[1;33m==\u001b[0m \u001b[1;34m'trf'\u001b[0m\u001b[1;33m:\u001b[0m\u001b[1;33m\u001b[0m\u001b[0m\n",
      "\u001b[1;31mTypeError\u001b[0m: btk_fitG() takes exactly 6 arguments (3 given)"
     ]
    }
   ],
   "source": [
    "fitting_para=fit_BTK_curve(data.index.values*1000,data.values,T=2,GAP=1,B=1,GA=0,width=[400,400],figure_path='C:\\\\Users\\\\QSong_pku\\\\Desktop\\\\temp.png')\n",
    "\n",
    "print(fitting_para)"
   ]
  },
  {
   "cell_type": "code",
   "execution_count": null,
   "metadata": {
    "collapsed": true
   },
   "outputs": [],
   "source": []
  }
 ],
 "metadata": {
  "kernelspec": {
   "display_name": "Python [Root]",
   "language": "python",
   "name": "Python [Root]"
  },
  "language_info": {
   "codemirror_mode": {
    "name": "ipython",
    "version": 2
   },
   "file_extension": ".py",
   "mimetype": "text/x-python",
   "name": "python",
   "nbconvert_exporter": "python",
   "pygments_lexer": "ipython2",
   "version": "2.7.11"
  }
 },
 "nbformat": 4,
 "nbformat_minor": 0
}
